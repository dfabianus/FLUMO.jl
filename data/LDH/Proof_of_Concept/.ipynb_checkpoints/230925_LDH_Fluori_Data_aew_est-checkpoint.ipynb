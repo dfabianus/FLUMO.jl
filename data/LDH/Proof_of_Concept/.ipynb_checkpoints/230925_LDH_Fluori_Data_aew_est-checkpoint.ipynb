{
 "cells": [
  {
   "cell_type": "code",
   "execution_count": 1,
   "id": "double-illinois",
   "metadata": {},
   "outputs": [],
   "source": [
    "import pandas as pd\n",
    "import numpy as np\n",
    "import matplotlib.pyplot as plt\n",
    "import os\n",
    "from datetime import date\n",
    "from scipy.optimize import curve_fit"
   ]
  },
  {
   "cell_type": "code",
   "execution_count": 2,
   "id": "growing-supply",
   "metadata": {},
   "outputs": [],
   "source": [
    "experiment = 'Activity'"
   ]
  },
  {
   "cell_type": "code",
   "execution_count": 3,
   "id": "aware-cloud",
   "metadata": {},
   "outputs": [
    {
     "name": "stdout",
     "output_type": "stream",
     "text": [
      "2023-09-28\n"
     ]
    }
   ],
   "source": [
    "today = date.today()\n",
    "print(today)\n",
    "path = os.getcwd()\n",
    "\n",
    "mypath = fr'{experiment}\\Results\\Plots\\{today}' \n",
    "if not os.path.isdir(mypath):\n",
    "    os.makedirs(mypath)\n"
   ]
  },
  {
   "cell_type": "code",
   "execution_count": 4,
   "id": "elementary-battlefield",
   "metadata": {},
   "outputs": [],
   "source": [
    "files = os.listdir(rf'{path}\\{experiment}\\Rawdata')"
   ]
  },
  {
   "cell_type": "code",
   "execution_count": 5,
   "id": "gross-grill",
   "metadata": {},
   "outputs": [
    {
     "data": {
      "text/plain": [
       "['230925_PoC_Rawdata_Separate_Cuvette1_Ac.xlsx']"
      ]
     },
     "execution_count": 5,
     "metadata": {},
     "output_type": "execute_result"
    }
   ],
   "source": [
    "files"
   ]
  },
  {
   "cell_type": "code",
   "execution_count": 6,
   "id": "played-subscriber",
   "metadata": {},
   "outputs": [],
   "source": [
    "def plotting_separate(tag, time, aew, intensity):\n",
    "    \n",
    "    fig, ax = plt.subplots(1,1, figsize = (9.5,6.5))\n",
    "    \n",
    "    ax1 = ax.twinx()\n",
    "    \n",
    "    ax.plot(time, aew, label = 'AEW', color = 'tab:red')\n",
    "    ax1.plot(time, intensity, label = 'Intensity', color = 'tab:blue')\n",
    "    \n",
    "    ax.set_xlim(0,)\n",
    "    #ax.set_ylim(335,339)\n",
    "    ax.set_ylabel('Average Emission Wavelength in nm', fontsize = 14)\n",
    "    ax1.set_ylabel('Integral of Intensity', fontsize = 14)\n",
    "    ax.set_xlabel('Time in min', fontsize = 14)\n",
    "    \n",
    "    ax.tick_params(labelsize = 14)\n",
    "    ax1.tick_params(labelsize = 14)\n",
    "    \n",
    "    fig.legend(bbox_to_anchor = (0.88,0.85),fontsize = 14)\n",
    "        \n",
    "    ax.set_title(f'{tag}', fontsize = 14, fontweight = 'bold')\n",
    "    fig.tight_layout()\n",
    "    fig.savefig(f'{experiment}\\Results\\Plots\\{today}\\{today}_tag_esty0.png', dpi = 600)"
   ]
  },
  {
   "cell_type": "code",
   "execution_count": 7,
   "id": "blocked-crowd",
   "metadata": {},
   "outputs": [],
   "source": [
    "def plotting_curve_fit(tag, time, aew, t_fit, y_fit, k, delta_aew, aew_diff, normalization):\n",
    "    \n",
    "    fig, ax = plt.subplots(1,1, figsize = (9.5,6.5))\n",
    "    \n",
    "    ax1 = ax.twinx()\n",
    "    ax.scatter(time, aew, label = 'AEW', color = 'tab:red')\n",
    "    ax.plot(t_fit, y_fit, color = 'tab:red')\n",
    "    ax1.plot(t_fit, aew_diff, color = 'tab:blue')\n",
    "    #ax.fill_between(t_fit, y_fit+error, y_fit-error, color = 'tab:red', alpha = 0.15)\n",
    "       \n",
    "    ax.set_xlim(0,)\n",
    "    \n",
    "    ax.set_xlabel('Time in min', fontsize = 14)\n",
    "    ax1.set_ylabel('Δaew/Δt in nm/min', fontsize = 14, color = 'tab:blue')\n",
    "    \n",
    "    ax.tick_params(labelsize = 14)\n",
    "    ax1.tick_params(labelsize = 14)\n",
    "    \n",
    "    ax.set_title(f'{tag}, k = {np.round(k, 4)}, Δaew = {np.round(delta_aew, 2)}', fontsize = 14, fontweight = 'bold')\n",
    "    \n",
    "    if normalization == True:\n",
    "        ax.set_ylabel('Normalized Average Emission Wavelength in nm', fontsize = 14, color = 'tab:red')\n",
    "        fig.tight_layout()\n",
    "        fig.savefig(f'{experiment}\\Results\\Plots\\{today}\\{today}_fit_{tag}_esty0_norm.png', dpi = 600)\n",
    "        \n",
    "    else:\n",
    "        ax.set_ylabel('Average Emission Wavelength in nm', fontsize = 14, color = 'tab:red')\n",
    "        fig.tight_layout()\n",
    "        fig.savefig(f'{experiment}\\Results\\Plots\\{today}\\{today}_fit_{tag}_esty0.png', dpi = 600)"
   ]
  },
  {
   "cell_type": "code",
   "execution_count": 8,
   "id": "organizational-italian",
   "metadata": {},
   "outputs": [],
   "source": [
    "def exponential_decay(t, y, k, d):\n",
    "    return (y-d) * np.exp(-k * t) + d\n",
    "\n",
    "def exponential_decay_deriv(t, y, k, d):\n",
    "    return -k*(y-d) * np.exp(-k * t)\n"
   ]
  },
  {
   "cell_type": "code",
   "execution_count": 9,
   "id": "diverse-pixel",
   "metadata": {},
   "outputs": [],
   "source": [
    "def optimizer(time, data):\n",
    "    \n",
    "    def exponential_decay(t, y, k, d):\n",
    "        return (y-d) * np.exp(-k * t) + d\n",
    "\n",
    "    popt, pcov = curve_fit(exponential_decay, time, data, p0 = [data[0], 0.05, data.iloc[-1]])\n",
    "    \n",
    "    y_fit, k_fit, d_fit = popt\n",
    "    \n",
    "    y_std, k_std, d_std = np.sqrt(np.diag(pcov))\n",
    "    t_fit = np.linspace(0, np.max(time), 100)\n",
    "    \n",
    "    aew_fit = exponential_decay(t_fit, y_fit, k_fit, d_fit)\n",
    "    aew_diff = exponential_decay_deriv(t_fit, y_fit, k_fit, d_fit)\n",
    "    #print(k_fit)\n",
    "    \n",
    "    return aew_fit, y_fit, y_std, k_fit, k_std, t_fit, d_fit, d_std, aew_diff\n"
   ]
  },
  {
   "cell_type": "code",
   "execution_count": 10,
   "id": "affecting-packaging",
   "metadata": {},
   "outputs": [],
   "source": [
    "init_param = 1"
   ]
  },
  {
   "cell_type": "code",
   "execution_count": 11,
   "id": "sophisticated-finance",
   "metadata": {},
   "outputs": [],
   "source": [
    "norm = False"
   ]
  },
  {
   "cell_type": "code",
   "execution_count": 12,
   "id": "cultural-split",
   "metadata": {
    "scrolled": false
   },
   "outputs": [
    {
     "ename": "KeyError",
     "evalue": "'Average emission wavelength [nm]'",
     "output_type": "error",
     "traceback": [
      "\u001b[1;31m---------------------------------------------------------------------------\u001b[0m",
      "\u001b[1;31mKeyError\u001b[0m                                  Traceback (most recent call last)",
      "\u001b[1;32mc:\\users\\c.igw\\miniconda3\\envs\\evaluation_env\\lib\\site-packages\\pandas\\core\\indexes\\base.py\u001b[0m in \u001b[0;36mget_loc\u001b[1;34m(self, key, method, tolerance)\u001b[0m\n\u001b[0;32m   3079\u001b[0m             \u001b[1;32mtry\u001b[0m\u001b[1;33m:\u001b[0m\u001b[1;33m\u001b[0m\u001b[1;33m\u001b[0m\u001b[0m\n\u001b[1;32m-> 3080\u001b[1;33m                 \u001b[1;32mreturn\u001b[0m \u001b[0mself\u001b[0m\u001b[1;33m.\u001b[0m\u001b[0m_engine\u001b[0m\u001b[1;33m.\u001b[0m\u001b[0mget_loc\u001b[0m\u001b[1;33m(\u001b[0m\u001b[0mcasted_key\u001b[0m\u001b[1;33m)\u001b[0m\u001b[1;33m\u001b[0m\u001b[1;33m\u001b[0m\u001b[0m\n\u001b[0m\u001b[0;32m   3081\u001b[0m             \u001b[1;32mexcept\u001b[0m \u001b[0mKeyError\u001b[0m \u001b[1;32mas\u001b[0m \u001b[0merr\u001b[0m\u001b[1;33m:\u001b[0m\u001b[1;33m\u001b[0m\u001b[1;33m\u001b[0m\u001b[0m\n",
      "\u001b[1;32mpandas\\_libs\\index.pyx\u001b[0m in \u001b[0;36mpandas._libs.index.IndexEngine.get_loc\u001b[1;34m()\u001b[0m\n",
      "\u001b[1;32mpandas\\_libs\\index.pyx\u001b[0m in \u001b[0;36mpandas._libs.index.IndexEngine.get_loc\u001b[1;34m()\u001b[0m\n",
      "\u001b[1;32mpandas\\_libs\\hashtable_class_helper.pxi\u001b[0m in \u001b[0;36mpandas._libs.hashtable.PyObjectHashTable.get_item\u001b[1;34m()\u001b[0m\n",
      "\u001b[1;32mpandas\\_libs\\hashtable_class_helper.pxi\u001b[0m in \u001b[0;36mpandas._libs.hashtable.PyObjectHashTable.get_item\u001b[1;34m()\u001b[0m\n",
      "\u001b[1;31mKeyError\u001b[0m: 'Average emission wavelength [nm]'",
      "\nThe above exception was the direct cause of the following exception:\n",
      "\u001b[1;31mKeyError\u001b[0m                                  Traceback (most recent call last)",
      "\u001b[1;32m<ipython-input-12-751c1f9e6883>\u001b[0m in \u001b[0;36m<module>\u001b[1;34m\u001b[0m\n\u001b[0;32m     18\u001b[0m         \u001b[0mt_sim\u001b[0m \u001b[1;33m=\u001b[0m \u001b[0mt\u001b[0m\u001b[1;33m-\u001b[0m\u001b[0mt\u001b[0m\u001b[1;33m[\u001b[0m\u001b[1;36m0\u001b[0m\u001b[1;33m]\u001b[0m\u001b[1;33m\u001b[0m\u001b[1;33m\u001b[0m\u001b[0m\n\u001b[0;32m     19\u001b[0m \u001b[1;33m\u001b[0m\u001b[0m\n\u001b[1;32m---> 20\u001b[1;33m         \u001b[0mdata\u001b[0m\u001b[1;33m[\u001b[0m\u001b[1;34m'n_aew'\u001b[0m\u001b[1;33m]\u001b[0m \u001b[1;33m=\u001b[0m \u001b[1;33m(\u001b[0m\u001b[0mdata\u001b[0m\u001b[1;33m[\u001b[0m\u001b[1;34m'Average emission wavelength [nm]'\u001b[0m\u001b[1;33m]\u001b[0m\u001b[1;33m-\u001b[0m\u001b[0mdata\u001b[0m\u001b[1;33m[\u001b[0m\u001b[1;34m'Average emission wavelength [nm]'\u001b[0m\u001b[1;33m]\u001b[0m\u001b[1;33m.\u001b[0m\u001b[0mmin\u001b[0m\u001b[1;33m(\u001b[0m\u001b[1;33m)\u001b[0m\u001b[1;33m)\u001b[0m\u001b[1;33m/\u001b[0m\u001b[1;33m(\u001b[0m\u001b[0mdata\u001b[0m\u001b[1;33m[\u001b[0m\u001b[1;34m'Average emission wavelength [nm]'\u001b[0m\u001b[1;33m]\u001b[0m\u001b[1;33m.\u001b[0m\u001b[0mmax\u001b[0m\u001b[1;33m(\u001b[0m\u001b[1;33m)\u001b[0m\u001b[1;33m-\u001b[0m\u001b[0mdata\u001b[0m\u001b[1;33m[\u001b[0m\u001b[1;34m'Average emission wavelength [nm]'\u001b[0m\u001b[1;33m]\u001b[0m\u001b[1;33m.\u001b[0m\u001b[0mmin\u001b[0m\u001b[1;33m(\u001b[0m\u001b[1;33m)\u001b[0m\u001b[1;33m)\u001b[0m\u001b[1;33m\u001b[0m\u001b[1;33m\u001b[0m\u001b[0m\n\u001b[0m\u001b[0;32m     21\u001b[0m \u001b[1;33m\u001b[0m\u001b[0m\n\u001b[0;32m     22\u001b[0m         \u001b[0maew\u001b[0m\u001b[1;33m\u001b[0m\u001b[1;33m\u001b[0m\u001b[0m\n",
      "\u001b[1;32mc:\\users\\c.igw\\miniconda3\\envs\\evaluation_env\\lib\\site-packages\\pandas\\core\\frame.py\u001b[0m in \u001b[0;36m__getitem__\u001b[1;34m(self, key)\u001b[0m\n\u001b[0;32m   3022\u001b[0m             \u001b[1;32mif\u001b[0m \u001b[0mself\u001b[0m\u001b[1;33m.\u001b[0m\u001b[0mcolumns\u001b[0m\u001b[1;33m.\u001b[0m\u001b[0mnlevels\u001b[0m \u001b[1;33m>\u001b[0m \u001b[1;36m1\u001b[0m\u001b[1;33m:\u001b[0m\u001b[1;33m\u001b[0m\u001b[1;33m\u001b[0m\u001b[0m\n\u001b[0;32m   3023\u001b[0m                 \u001b[1;32mreturn\u001b[0m \u001b[0mself\u001b[0m\u001b[1;33m.\u001b[0m\u001b[0m_getitem_multilevel\u001b[0m\u001b[1;33m(\u001b[0m\u001b[0mkey\u001b[0m\u001b[1;33m)\u001b[0m\u001b[1;33m\u001b[0m\u001b[1;33m\u001b[0m\u001b[0m\n\u001b[1;32m-> 3024\u001b[1;33m             \u001b[0mindexer\u001b[0m \u001b[1;33m=\u001b[0m \u001b[0mself\u001b[0m\u001b[1;33m.\u001b[0m\u001b[0mcolumns\u001b[0m\u001b[1;33m.\u001b[0m\u001b[0mget_loc\u001b[0m\u001b[1;33m(\u001b[0m\u001b[0mkey\u001b[0m\u001b[1;33m)\u001b[0m\u001b[1;33m\u001b[0m\u001b[1;33m\u001b[0m\u001b[0m\n\u001b[0m\u001b[0;32m   3025\u001b[0m             \u001b[1;32mif\u001b[0m \u001b[0mis_integer\u001b[0m\u001b[1;33m(\u001b[0m\u001b[0mindexer\u001b[0m\u001b[1;33m)\u001b[0m\u001b[1;33m:\u001b[0m\u001b[1;33m\u001b[0m\u001b[1;33m\u001b[0m\u001b[0m\n\u001b[0;32m   3026\u001b[0m                 \u001b[0mindexer\u001b[0m \u001b[1;33m=\u001b[0m \u001b[1;33m[\u001b[0m\u001b[0mindexer\u001b[0m\u001b[1;33m]\u001b[0m\u001b[1;33m\u001b[0m\u001b[1;33m\u001b[0m\u001b[0m\n",
      "\u001b[1;32mc:\\users\\c.igw\\miniconda3\\envs\\evaluation_env\\lib\\site-packages\\pandas\\core\\indexes\\base.py\u001b[0m in \u001b[0;36mget_loc\u001b[1;34m(self, key, method, tolerance)\u001b[0m\n\u001b[0;32m   3080\u001b[0m                 \u001b[1;32mreturn\u001b[0m \u001b[0mself\u001b[0m\u001b[1;33m.\u001b[0m\u001b[0m_engine\u001b[0m\u001b[1;33m.\u001b[0m\u001b[0mget_loc\u001b[0m\u001b[1;33m(\u001b[0m\u001b[0mcasted_key\u001b[0m\u001b[1;33m)\u001b[0m\u001b[1;33m\u001b[0m\u001b[1;33m\u001b[0m\u001b[0m\n\u001b[0;32m   3081\u001b[0m             \u001b[1;32mexcept\u001b[0m \u001b[0mKeyError\u001b[0m \u001b[1;32mas\u001b[0m \u001b[0merr\u001b[0m\u001b[1;33m:\u001b[0m\u001b[1;33m\u001b[0m\u001b[1;33m\u001b[0m\u001b[0m\n\u001b[1;32m-> 3082\u001b[1;33m                 \u001b[1;32mraise\u001b[0m \u001b[0mKeyError\u001b[0m\u001b[1;33m(\u001b[0m\u001b[0mkey\u001b[0m\u001b[1;33m)\u001b[0m \u001b[1;32mfrom\u001b[0m \u001b[0merr\u001b[0m\u001b[1;33m\u001b[0m\u001b[1;33m\u001b[0m\u001b[0m\n\u001b[0m\u001b[0;32m   3083\u001b[0m \u001b[1;33m\u001b[0m\u001b[0m\n\u001b[0;32m   3084\u001b[0m         \u001b[1;32mif\u001b[0m \u001b[0mtolerance\u001b[0m \u001b[1;32mis\u001b[0m \u001b[1;32mnot\u001b[0m \u001b[1;32mNone\u001b[0m\u001b[1;33m:\u001b[0m\u001b[1;33m\u001b[0m\u001b[1;33m\u001b[0m\u001b[0m\n",
      "\u001b[1;31mKeyError\u001b[0m: 'Average emission wavelength [nm]'"
     ]
    },
    {
     "data": {
      "image/png": "[encoded data removed]",
      "text/plain": [
       "<Figure size 540x720 with 2 Axes>"
      ]
     },
     "metadata": {
      "needs_background": "light"
     },
     "output_type": "display_data"
    }
   ],
   "source": [
    "### normalized data ####\n",
    "\n",
    "fig2, (ax2, ax3) = plt.subplots(2,1, figsize = (7.5,10), sharex = True)\n",
    "\n",
    "for file in files:\n",
    "    \n",
    "    sheets_dict = pd.read_excel(fr'{path}\\{experiment}\\Rawdata\\{file}', sheet_name=None)\n",
    "        \n",
    "       \n",
    "    for sheet, data in sheets_dict.items():\n",
    "    \n",
    "        ## read data ##\n",
    "\n",
    "        label = sheet\n",
    "        \n",
    "        t = data['Time']\n",
    "        #t = data['Process Time [min]']\n",
    "        t_sim = t-t[0]\n",
    "        \n",
    "        data['n_aew'] = (data['Average emission wavelength [nm]']-data['Average emission wavelength [nm]'].min())/(data['Average emission wavelength [nm]'].max()-data['Average emission wavelength [nm]'].min())\n",
    "        \n",
    "        aew\n",
    "        data['n_intens'] = (data['Integral']-data['Integral'].min())/(data['Integral'].max()-data['Integral'].min())\n",
    "        if norm == True:\n",
    "            aew = data['n_aew']\n",
    "            intens = data['n_intens']\n",
    "        else:\n",
    "            aew = data['Average emission wavelength [nm]']\n",
    "            intens = data['Integral']\n",
    "\n",
    "        \n",
    "        ## plotting ##\n",
    "\n",
    "        plotting_separate(label, t_sim, aew, intens)\n",
    "\n",
    "        ax2.plot(t, aew, label = label)\n",
    "        ax3.plot(t, intens, label = label)\n",
    "\n",
    "        ax2.tick_params(labelsize = 14)\n",
    "        ax3.tick_params(labelsize = 14)\n",
    "\n",
    "        ax2.set_xlim(0,)\n",
    "        ax3.set_xlim(0,)\n",
    "\n",
    "        ax2.set_ylabel('Normalized Average Emission Wavelength in nm', fontsize = 14)\n",
    "        ax3.set_ylabel('Integral of Intensity', fontsize = 14)\n",
    "        ax3.set_xlabel('Time in h', fontsize = 14)\n",
    "\n",
    "        ax3.legend(ncol = len(label),fontsize = 12)\n",
    "        ax2.legend(ncol = len(label),fontsize = 12)\n",
    "\n",
    "        fig2.tight_layout()\n",
    "        fig2.savefig(rf'{experiment}\\Results\\Plots\\{today}_alldata.png', dpi = 600)\n",
    "\n",
    "        ## fit curves ##\n",
    "        aew_fit, y_fit, y_std, k_fit, k_std, t_fit, d_fit, d_std, aew_diff = optimizer(t_sim, aew)\n",
    "\n",
    "        delta_aew = aew[0]-d_fit\n",
    "        #print(t,aew)\n",
    "        plotting_curve_fit(label, t_sim, aew, t_fit, aew_fit, k_fit, delta_aew, aew_diff, norm)"
   ]
  },
  {
   "cell_type": "code",
   "execution_count": null,
   "id": "cardiovascular-cooler",
   "metadata": {},
   "outputs": [],
   "source": []
  },
  {
   "cell_type": "code",
   "execution_count": null,
   "id": "incident-asbestos",
   "metadata": {},
   "outputs": [],
   "source": []
  }
 ],
 "metadata": {
  "kernelspec": {
   "display_name": "Python 3",
   "language": "python",
   "name": "python3"
  },
  "language_info": {
   "codemirror_mode": {
    "name": "ipython",
    "version": 3
   },
   "file_extension": ".py",
   "mimetype": "text/x-python",
   "name": "python",
   "nbconvert_exporter": "python",
   "pygments_lexer": "ipython3",
   "version": "3.9.2"
  }
 },
 "nbformat": 4,
 "nbformat_minor": 5
}
