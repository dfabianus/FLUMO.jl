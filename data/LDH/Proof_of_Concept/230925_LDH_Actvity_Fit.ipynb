{
 "cells": [
  {
   "cell_type": "code",
   "execution_count": 1,
   "id": "double-illinois",
   "metadata": {},
   "outputs": [
    {
     "name": "stderr",
     "output_type": "stream",
     "text": [
      "/usr/local/anaconda3/lib/python3.8/site-packages/pandas/core/computation/expressions.py:20: UserWarning: Pandas requires version '2.7.3' or newer of 'numexpr' (version '2.7.1' currently installed).\n",
      "  from pandas.core.computation.check import NUMEXPR_INSTALLED\n"
     ]
    }
   ],
   "source": [
    "import pandas as pd\n",
    "import numpy as np\n",
    "import matplotlib.pyplot as plt\n",
    "import os\n",
    "from datetime import date\n",
    "from scipy.optimize import curve_fit"
   ]
  },
  {
   "cell_type": "code",
   "execution_count": 2,
   "id": "growing-supply",
   "metadata": {},
   "outputs": [],
   "source": [
    "experiment = 'Activity'"
   ]
  },
  {
   "cell_type": "code",
   "execution_count": 5,
   "id": "aware-cloud",
   "metadata": {},
   "outputs": [
    {
     "name": "stdout",
     "output_type": "stream",
     "text": [
      "2023-09-28\n"
     ]
    }
   ],
   "source": [
    "today = date.today()\n",
    "print(today)\n",
    "path = os.getcwd()\n",
    "\n",
    "mypath = fr'{experiment}/Results/Plots/{today}' \n",
    "if not os.path.isdir(mypath):\n",
    "    os.makedirs(mypath)\n"
   ]
  },
  {
   "cell_type": "code",
   "execution_count": 6,
   "id": "elementary-battlefield",
   "metadata": {},
   "outputs": [],
   "source": [
    "files = os.listdir(rf'{path}/{experiment}/Rawdata')"
   ]
  },
  {
   "cell_type": "code",
   "execution_count": 7,
   "id": "gross-grill",
   "metadata": {},
   "outputs": [
    {
     "data": {
      "text/plain": [
       "['230925_PoC_Rawdata_Separate_Cuvette1_Ac.xlsx']"
      ]
     },
     "execution_count": 7,
     "metadata": {},
     "output_type": "execute_result"
    }
   ],
   "source": [
    "files"
   ]
  },
  {
   "cell_type": "code",
   "execution_count": 9,
   "id": "played-subscriber",
   "metadata": {},
   "outputs": [],
   "source": [
    "def plotting_separate(tag, time, vAc):\n",
    "    \n",
    "    fig, ax = plt.subplots(1,1, figsize = (9.5,6.5))\n",
    "    \n",
    "    \n",
    "    ax.plot(time, vAc, label = 'Actvity', marker = 'o',ls = '--', color = 'tab:red')\n",
    "    \n",
    "    \n",
    "    ax.set_xlim(0,)\n",
    "    \n",
    "    ax.set_ylabel('Volumetric Activity in U mL$^{-1}$', fontsize = 14)\n",
    "    \n",
    "    ax.set_xlabel('Time in min', fontsize = 14)\n",
    "    \n",
    "    ax.tick_params(labelsize = 14)\n",
    "    \n",
    "    \n",
    "    fig.legend(bbox_to_anchor = (0.88,0.85),fontsize = 14)\n",
    "        \n",
    "    ax.set_title(f'{tag}', fontsize = 14, fontweight = 'bold')\n",
    "    fig.tight_layout()\n",
    "    fig.savefig(f'{experiment}\\Results\\Plots\\{today}\\{today}_tag_esty0.png', dpi = 600)"
   ]
  },
  {
   "cell_type": "code",
   "execution_count": 10,
   "id": "blocked-crowd",
   "metadata": {},
   "outputs": [],
   "source": [
    "def plotting_curve_fit(tag, time, vAc, t_fit, y_fit, k, delta_vAc, vAc_diff, normalization):\n",
    "    \n",
    "    fig, ax = plt.subplots(1,1, figsize = (9.5,6.5))\n",
    "    \n",
    "    ax1 = ax.twinx()\n",
    "    ax.scatter(time, vAc, label = 'vAc', color = 'tab:red')\n",
    "    ax.plot(t_fit, y_fit, color = 'tab:red')\n",
    "    ax1.plot(t_fit, vAc_diff, color = 'tab:blue')\n",
    "    #ax.fill_between(t_fit, y_fit+error, y_fit-error, color = 'tab:red', alpha = 0.15)\n",
    "       \n",
    "    ax.set_xlim(0,)\n",
    "    \n",
    "    ax.set_xlabel('Time in min', fontsize = 14)\n",
    "    ax1.set_ylabel('ΔvAc/Δt in nm/min', fontsize = 14, color = 'tab:blue')\n",
    "    \n",
    "    ax.tick_params(labelsize = 14)\n",
    "    ax1.tick_params(labelsize = 14)\n",
    "    \n",
    "    ax.set_title(f'{tag}, k = {np.round(k, 4)}, ΔvAc = {np.round(delta_vAc, 2)}', fontsize = 14, fontweight = 'bold')\n",
    "    \n",
    "    if normalization == True:\n",
    "        ax.set_ylabel('Normalized Volumetric Activity in U mL$^{-1}$', fontsize = 14, color = 'tab:red')\n",
    "        fig.tight_layout()\n",
    "        fig.savefig(f'{experiment}\\Results\\Plots\\{today}\\{today}_fit_{tag}_esty0_norm.png', dpi = 600)\n",
    "        \n",
    "    else:\n",
    "        ax.set_ylabel('Volumetric Activity in U mL$^{-1}$', fontsize = 14, color = 'tab:red')\n",
    "        fig.tight_layout()\n",
    "        fig.savefig(f'{experiment}\\Results\\Plots\\{today}\\{today}_fit_{tag}_esty0.png', dpi = 600)"
   ]
  },
  {
   "cell_type": "code",
   "execution_count": 11,
   "id": "organizational-italian",
   "metadata": {},
   "outputs": [],
   "source": [
    "def exponential_decay(t, y, k, d):\n",
    "    return (y-d) * np.exp(-k * t) + d\n",
    "\n",
    "def exponential_decay_deriv(t, y, k, d):\n",
    "    return -k*(y-d) * np.exp(-k * t)\n"
   ]
  },
  {
   "cell_type": "code",
   "execution_count": 12,
   "id": "practical-array",
   "metadata": {},
   "outputs": [],
   "source": [
    "def increasing_exponential2(t, y, k, d):\n",
    "    return (y-d) * (1 - np.exp(k * t)) + d\n",
    "\n",
    "def increasing_exponential_derivative2(t, y, k, d):\n",
    "    return k * (y - d) * np.exp(k * t)\n"
   ]
  },
  {
   "cell_type": "code",
   "execution_count": 13,
   "id": "fifth-cartoon",
   "metadata": {},
   "outputs": [],
   "source": [
    "def logistic_function(t, y, k, d):\n",
    "    return y / (1 + np.exp(-k * t)) + d\n",
    "\n",
    "def logistic_function_derivative(t, y, k, d):\n",
    "    numerator = k * y * np.exp(-k * t)\n",
    "    denominator = (1 + np.exp(-k * t)) ** 2\n",
    "    return numerator / denominator\n"
   ]
  },
  {
   "cell_type": "code",
   "execution_count": 14,
   "id": "diverse-pixel",
   "metadata": {},
   "outputs": [],
   "source": [
    "def optimizer(time, data):\n",
    "    \n",
    "    def logistic_function(t, y, k, d):\n",
    "        return (y-d) * (1 - np.exp(k * t)) + d\n",
    "\n",
    "    popt, pcov = curve_fit(logistic_function, time, data, p0 = [data.iloc[-1], 0.01,-2])\n",
    "    \n",
    "    y_fit, k_fit, d_fit = popt\n",
    "    \n",
    "    y_std, k_std, d_std = np.sqrt(np.diag(pcov))\n",
    "    t_fit = np.linspace(0, np.max(time), 100)\n",
    "    \n",
    "    vAc_fit = logistic_function(t_fit, y_fit, k_fit, d_fit)\n",
    "    vAc_diff = logistic_function_derivative(t_fit, y_fit, k_fit, d_fit)\n",
    "    #print(k_fit)\n",
    "    \n",
    "    return vAc_fit, y_fit, y_std, k_fit, k_std, t_fit, d_fit, d_std, vAc_diff\n"
   ]
  },
  {
   "cell_type": "code",
   "execution_count": 15,
   "id": "affecting-packaging",
   "metadata": {},
   "outputs": [],
   "source": [
    "init_param = 1"
   ]
  },
  {
   "cell_type": "code",
   "execution_count": 16,
   "id": "sophisticated-finance",
   "metadata": {},
   "outputs": [],
   "source": [
    "norm = False"
   ]
  },
  {
   "cell_type": "code",
   "execution_count": 18,
   "id": "cultural-split",
   "metadata": {
    "scrolled": false
   },
   "outputs": [
    {
     "ename": "FileNotFoundError",
     "evalue": "[Errno 2] No such file or directory: '/Users/fabian/Downloads/FL/Proof_of_Concept\\\\Activity/Rawdata/230925_PoC_Rawdata_Separate_Cuvette1_Ac.xlsx'",
     "output_type": "error",
     "traceback": [
      "\u001b[0;31m---------------------------------------------------------------------------\u001b[0m",
      "\u001b[0;31mFileNotFoundError\u001b[0m                         Traceback (most recent call last)",
      "\u001b[0;32m<ipython-input-18-742cfc0f054c>\u001b[0m in \u001b[0;36m<module>\u001b[0;34m\u001b[0m\n\u001b[1;32m      5\u001b[0m \u001b[0;32mfor\u001b[0m \u001b[0mfile\u001b[0m \u001b[0;32min\u001b[0m \u001b[0mfiles\u001b[0m\u001b[0;34m:\u001b[0m\u001b[0;34m\u001b[0m\u001b[0;34m\u001b[0m\u001b[0m\n\u001b[1;32m      6\u001b[0m \u001b[0;34m\u001b[0m\u001b[0m\n\u001b[0;32m----> 7\u001b[0;31m     \u001b[0msheets_dict\u001b[0m \u001b[0;34m=\u001b[0m \u001b[0mpd\u001b[0m\u001b[0;34m.\u001b[0m\u001b[0mread_excel\u001b[0m\u001b[0;34m(\u001b[0m\u001b[0;34mfr'{path}\\{experiment}/Rawdata/{file}'\u001b[0m\u001b[0;34m,\u001b[0m \u001b[0msheet_name\u001b[0m\u001b[0;34m=\u001b[0m\u001b[0;32mNone\u001b[0m\u001b[0;34m)\u001b[0m\u001b[0;34m\u001b[0m\u001b[0;34m\u001b[0m\u001b[0m\n\u001b[0m\u001b[1;32m      8\u001b[0m \u001b[0;34m\u001b[0m\u001b[0m\n\u001b[1;32m      9\u001b[0m \u001b[0;34m\u001b[0m\u001b[0m\n",
      "\u001b[0;32m/usr/local/anaconda3/lib/python3.8/site-packages/pandas/io/excel/_base.py\u001b[0m in \u001b[0;36mread_excel\u001b[0;34m(io, sheet_name, header, names, index_col, usecols, dtype, engine, converters, true_values, false_values, skiprows, nrows, na_values, keep_default_na, na_filter, verbose, parse_dates, date_parser, date_format, thousands, decimal, comment, skipfooter, storage_options, dtype_backend)\u001b[0m\n\u001b[1;32m    476\u001b[0m     \u001b[0;32mif\u001b[0m \u001b[0;32mnot\u001b[0m \u001b[0misinstance\u001b[0m\u001b[0;34m(\u001b[0m\u001b[0mio\u001b[0m\u001b[0;34m,\u001b[0m \u001b[0mExcelFile\u001b[0m\u001b[0;34m)\u001b[0m\u001b[0;34m:\u001b[0m\u001b[0;34m\u001b[0m\u001b[0;34m\u001b[0m\u001b[0m\n\u001b[1;32m    477\u001b[0m         \u001b[0mshould_close\u001b[0m \u001b[0;34m=\u001b[0m \u001b[0;32mTrue\u001b[0m\u001b[0;34m\u001b[0m\u001b[0;34m\u001b[0m\u001b[0m\n\u001b[0;32m--> 478\u001b[0;31m         \u001b[0mio\u001b[0m \u001b[0;34m=\u001b[0m \u001b[0mExcelFile\u001b[0m\u001b[0;34m(\u001b[0m\u001b[0mio\u001b[0m\u001b[0;34m,\u001b[0m \u001b[0mstorage_options\u001b[0m\u001b[0;34m=\u001b[0m\u001b[0mstorage_options\u001b[0m\u001b[0;34m,\u001b[0m \u001b[0mengine\u001b[0m\u001b[0;34m=\u001b[0m\u001b[0mengine\u001b[0m\u001b[0;34m)\u001b[0m\u001b[0;34m\u001b[0m\u001b[0;34m\u001b[0m\u001b[0m\n\u001b[0m\u001b[1;32m    479\u001b[0m     \u001b[0;32melif\u001b[0m \u001b[0mengine\u001b[0m \u001b[0;32mand\u001b[0m \u001b[0mengine\u001b[0m \u001b[0;34m!=\u001b[0m \u001b[0mio\u001b[0m\u001b[0;34m.\u001b[0m\u001b[0mengine\u001b[0m\u001b[0;34m:\u001b[0m\u001b[0;34m\u001b[0m\u001b[0;34m\u001b[0m\u001b[0m\n\u001b[1;32m    480\u001b[0m         raise ValueError(\n",
      "\u001b[0;32m/usr/local/anaconda3/lib/python3.8/site-packages/pandas/io/excel/_base.py\u001b[0m in \u001b[0;36m__init__\u001b[0;34m(self, path_or_buffer, engine, storage_options)\u001b[0m\n\u001b[1;32m   1494\u001b[0m                 \u001b[0mext\u001b[0m \u001b[0;34m=\u001b[0m \u001b[0;34m\"xls\"\u001b[0m\u001b[0;34m\u001b[0m\u001b[0;34m\u001b[0m\u001b[0m\n\u001b[1;32m   1495\u001b[0m             \u001b[0;32melse\u001b[0m\u001b[0;34m:\u001b[0m\u001b[0;34m\u001b[0m\u001b[0;34m\u001b[0m\u001b[0m\n\u001b[0;32m-> 1496\u001b[0;31m                 ext = inspect_excel_format(\n\u001b[0m\u001b[1;32m   1497\u001b[0m                     \u001b[0mcontent_or_path\u001b[0m\u001b[0;34m=\u001b[0m\u001b[0mpath_or_buffer\u001b[0m\u001b[0;34m,\u001b[0m \u001b[0mstorage_options\u001b[0m\u001b[0;34m=\u001b[0m\u001b[0mstorage_options\u001b[0m\u001b[0;34m\u001b[0m\u001b[0;34m\u001b[0m\u001b[0m\n\u001b[1;32m   1498\u001b[0m                 )\n",
      "\u001b[0;32m/usr/local/anaconda3/lib/python3.8/site-packages/pandas/io/excel/_base.py\u001b[0m in \u001b[0;36minspect_excel_format\u001b[0;34m(content_or_path, storage_options)\u001b[0m\n\u001b[1;32m   1369\u001b[0m         \u001b[0mcontent_or_path\u001b[0m \u001b[0;34m=\u001b[0m \u001b[0mBytesIO\u001b[0m\u001b[0;34m(\u001b[0m\u001b[0mcontent_or_path\u001b[0m\u001b[0;34m)\u001b[0m\u001b[0;34m\u001b[0m\u001b[0;34m\u001b[0m\u001b[0m\n\u001b[1;32m   1370\u001b[0m \u001b[0;34m\u001b[0m\u001b[0m\n\u001b[0;32m-> 1371\u001b[0;31m     with get_handle(\n\u001b[0m\u001b[1;32m   1372\u001b[0m         \u001b[0mcontent_or_path\u001b[0m\u001b[0;34m,\u001b[0m \u001b[0;34m\"rb\"\u001b[0m\u001b[0;34m,\u001b[0m \u001b[0mstorage_options\u001b[0m\u001b[0;34m=\u001b[0m\u001b[0mstorage_options\u001b[0m\u001b[0;34m,\u001b[0m \u001b[0mis_text\u001b[0m\u001b[0;34m=\u001b[0m\u001b[0;32mFalse\u001b[0m\u001b[0;34m\u001b[0m\u001b[0;34m\u001b[0m\u001b[0m\n\u001b[1;32m   1373\u001b[0m     ) as handle:\n",
      "\u001b[0;32m/usr/local/anaconda3/lib/python3.8/site-packages/pandas/io/common.py\u001b[0m in \u001b[0;36mget_handle\u001b[0;34m(path_or_buf, mode, encoding, compression, memory_map, is_text, errors, storage_options)\u001b[0m\n\u001b[1;32m    866\u001b[0m         \u001b[0;32melse\u001b[0m\u001b[0;34m:\u001b[0m\u001b[0;34m\u001b[0m\u001b[0;34m\u001b[0m\u001b[0m\n\u001b[1;32m    867\u001b[0m             \u001b[0;31m# Binary mode\u001b[0m\u001b[0;34m\u001b[0m\u001b[0;34m\u001b[0m\u001b[0;34m\u001b[0m\u001b[0m\n\u001b[0;32m--> 868\u001b[0;31m             \u001b[0mhandle\u001b[0m \u001b[0;34m=\u001b[0m \u001b[0mopen\u001b[0m\u001b[0;34m(\u001b[0m\u001b[0mhandle\u001b[0m\u001b[0;34m,\u001b[0m \u001b[0mioargs\u001b[0m\u001b[0;34m.\u001b[0m\u001b[0mmode\u001b[0m\u001b[0;34m)\u001b[0m\u001b[0;34m\u001b[0m\u001b[0;34m\u001b[0m\u001b[0m\n\u001b[0m\u001b[1;32m    869\u001b[0m         \u001b[0mhandles\u001b[0m\u001b[0;34m.\u001b[0m\u001b[0mappend\u001b[0m\u001b[0;34m(\u001b[0m\u001b[0mhandle\u001b[0m\u001b[0;34m)\u001b[0m\u001b[0;34m\u001b[0m\u001b[0;34m\u001b[0m\u001b[0m\n\u001b[1;32m    870\u001b[0m \u001b[0;34m\u001b[0m\u001b[0m\n",
      "\u001b[0;31mFileNotFoundError\u001b[0m: [Errno 2] No such file or directory: '/Users/fabian/Downloads/FL/Proof_of_Concept\\\\Activity/Rawdata/230925_PoC_Rawdata_Separate_Cuvette1_Ac.xlsx'"
     ]
    },
    {
     "data": {
      "image/png": "[encoded data removed]",
      "text/plain": [
       "<Figure size 540x432 with 1 Axes>"
      ]
     },
     "metadata": {
      "needs_background": "light"
     },
     "output_type": "display_data"
    }
   ],
   "source": [
    "### normalized data ####\n",
    "\n",
    "fig2, ax2 = plt.subplots(1,1, figsize = (7.5,6))\n",
    "\n",
    "for file in files:\n",
    "    \n",
    "    sheets_dict = pd.read_excel(fr'{path}/{experiment}/Rawdata/{file}', sheet_name=None)\n",
    "        \n",
    "       \n",
    "    for sheet, data in sheets_dict.items():\n",
    "    \n",
    "        ## read data ##\n",
    "\n",
    "        label = sheet\n",
    "        \n",
    "        t = data['Time']\n",
    "        #t = data['Process Time [min]']\n",
    "        t_sim = t-t[0]\n",
    "        \n",
    "        data['n_vAc'] = (data['vAc']-data['vAc'].min())/(data['vAc'].max()-data['vAc'].min())\n",
    "        \n",
    "        if norm == True:\n",
    "            vAc = data['n_vAc']\n",
    "            \n",
    "        else:\n",
    "            vAc = data['vAc']\n",
    "            \n",
    "\n",
    "        \n",
    "        ## plotting ##\n",
    "\n",
    "        plotting_separate(label, t_sim, vAc)\n",
    "\n",
    "        ax2.plot(t, vAc, label = label)\n",
    "        \n",
    "\n",
    "        ax2.tick_params(labelsize = 14)\n",
    "        \n",
    "\n",
    "        ax2.set_xlim(0,)\n",
    "       \n",
    "\n",
    "        ax2.set_ylabel('Normalized Volumetric Activity in U mL$^{-1}$', fontsize = 14)\n",
    "        \n",
    "        ax2.set_xlabel('Time in h', fontsize = 14)\n",
    "\n",
    "       \n",
    "        ax2.legend(ncol = len(label),fontsize = 12)\n",
    "\n",
    "        fig2.tight_layout()\n",
    "        fig2.savefig(rf'{experiment}/Results/Plots/{today}_alldata.png', dpi = 600)\n",
    "\n",
    "        ## fit curves ##\n",
    "        vAc_fit, y_fit, y_std, k_fit, k_std, t_fit, d_fit, d_std, vAc_diff = optimizer(t_sim, vAc)\n",
    "\n",
    "        delta_vAc = vAc[0]-d_fit\n",
    "        #print(t,aew)\n",
    "        plotting_curve_fit(label, t_sim, vAc, t_fit, vAc_fit, k_fit, delta_vAc, vAc_diff, norm)"
   ]
  },
  {
   "cell_type": "code",
   "execution_count": 67,
   "id": "cardiovascular-cooler",
   "metadata": {},
   "outputs": [
    {
     "data": {
      "image/png": "[encoded data removed]",
      "text/plain": [
       "<Figure size 864x360 with 2 Axes>"
      ]
     },
     "metadata": {
      "needs_background": "light"
     },
     "output_type": "display_data"
    },
    {
     "name": "stdout",
     "output_type": "stream",
     "text": [
      "Fitted Parameters:\n",
      "y_fit: 5.9071471017157515\n",
      "k_fit: 0.10311606951760711\n",
      "d_fit: -2.951729659279896\n"
     ]
    }
   ],
   "source": [
    "import numpy as np\n",
    "import matplotlib.pyplot as plt\n",
    "from scipy.optimize import curve_fit\n",
    "\n",
    "# Define the logistic function\n",
    "def logistic_function(t, y, k, d):\n",
    "    return y / (1 + np.exp(-k * t)) + d\n",
    "\n",
    "# Define the derivative of the logistic function\n",
    "def logistic_function_derivative(t, y, k, d):\n",
    "    numerator = k * y * np.exp(-k * t)\n",
    "    denominator = (1 + np.exp(-k * t)) ** 2\n",
    "    return numerator / denominator\n",
    "\n",
    "# Input parameters\n",
    "t_data = np.array([0, 30, 60, 90, 120,150])\n",
    "y_data = np.array([0,2.74,2.53,2.95,2.92,3.37])\n",
    "\n",
    "# Fit the logistic function to the data\n",
    "params, covariance = curve_fit(logistic_function, t_data, y_data, p0=(y_data[-1], k_value, d_value))\n",
    "\n",
    "# Extract the fitted parameters\n",
    "y_fit, k_fit, d_fit = params\n",
    "\n",
    "# Calculate the logistic function values using the fitted parameters\n",
    "t_values = np.linspace(0, 150, 100)  # Extend the range for visualization\n",
    "logistic_values = logistic_function(t_values, y_fit, k_fit, d_fit)\n",
    "\n",
    "# Calculate the derivative of the logistic function using the fitted parameters\n",
    "derivative_values = logistic_function_derivative(t_values, y_fit, k_fit, d_fit)\n",
    "\n",
    "# Plot the data, fitted logistic function, and its derivative\n",
    "plt.figure(figsize=(12, 5))\n",
    "\n",
    "plt.subplot(1, 2, 1)\n",
    "plt.plot(t_data, y_data, marker='o', linestyle='', label='Data')\n",
    "plt.plot(t_values, logistic_values, label='Fitted Logistic Function', color='red')\n",
    "plt.xlabel('t')\n",
    "plt.ylabel('f(t)')\n",
    "plt.title('Fitting Data to Logistic Function')\n",
    "plt.grid(True)\n",
    "plt.legend()\n",
    "\n",
    "plt.subplot(1, 2, 2)\n",
    "plt.plot(t_values, derivative_values, label='Derivative', color='green')\n",
    "plt.xlabel('t')\n",
    "plt.ylabel(\"f'(t)\")\n",
    "plt.title('Derivative of Fitted Logistic Function')\n",
    "plt.grid(True)\n",
    "plt.legend()\n",
    "\n",
    "plt.tight_layout()\n",
    "plt.show()\n",
    "\n",
    "# Print the fitted parameters\n",
    "print('Fitted Parameters:')\n",
    "print(f'y_fit: {y_fit}')\n",
    "print(f'k_fit: {k_fit}')\n",
    "print(f'd_fit: {d_fit}')\n"
   ]
  },
  {
   "cell_type": "code",
   "execution_count": null,
   "id": "incident-asbestos",
   "metadata": {},
   "outputs": [],
   "source": []
  }
 ],
 "metadata": {
  "kernelspec": {
   "display_name": "Python 3",
   "language": "python",
   "name": "python3"
  },
  "language_info": {
   "codemirror_mode": {
    "name": "ipython",
    "version": 3
   },
   "file_extension": ".py",
   "mimetype": "text/x-python",
   "name": "python",
   "nbconvert_exporter": "python",
   "pygments_lexer": "ipython3",
   "version": "3.8.5"
  }
 },
 "nbformat": 4,
 "nbformat_minor": 5
}
